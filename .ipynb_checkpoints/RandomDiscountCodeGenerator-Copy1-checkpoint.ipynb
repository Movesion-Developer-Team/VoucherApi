{
 "cells": [
  {
   "cell_type": "code",
   "execution_count": 6,
   "id": "5ac7d29a",
   "metadata": {},
   "outputs": [],
   "source": [
    "import pandas as pd\n",
    "import numpy as np\n",
    "import random as rd\n",
    "import os\n",
    "import datetime as dt\n"
   ]
  },
  {
   "cell_type": "code",
   "execution_count": 3,
   "id": "7dd2def6",
   "metadata": {},
   "outputs": [
    {
     "name": "stdout",
     "output_type": "stream",
     "text": [
      "How many codes do you want to generate?\n"
     ]
    },
    {
     "name": "stdin",
     "output_type": "stream",
     "text": [
      " 15\n"
     ]
    }
   ],
   "source": [
    "print(\"How many codes do you want to generate?\")\n",
    "numberOfCodes = int(input())"
   ]
  },
  {
   "cell_type": "code",
   "execution_count": 4,
   "id": "572a057b",
   "metadata": {},
   "outputs": [],
   "source": [
    "alphabet = ['a', 'b', 'c', 'd', 'e', 'f', 'g', 'h', 'i', 'j', 'k', 'l', 'm', 'n', 'o', 'p', 'q', 'r', 's', 't', 'u', 'v', 'w', 'x', 'y', 'z']\n",
    "codes = []\n",
    "while len(set(codes))<numberOfCodes:\n",
    "    for i in range(numberOfCodes):\n",
    "        letter1 = alphabet[rd.randint(0,25)]\n",
    "        letter2 = alphabet[rd.randint(0,25)]\n",
    "        letter3 = alphabet[rd.randint(0,25)]\n",
    "        number1 = rd.randint(0,9)\n",
    "        number2 = rd.randint(0,9)\n",
    "        number3 = rd.randint(0,9)\n",
    "        number4 = rd.randint(0,9)\n",
    "\n",
    "        codes.append(f\"{letter1}{letter2}{letter3}{number1}{number2}{number3}{number4}\")\n",
    "    \n"
   ]
  },
  {
   "cell_type": "code",
   "execution_count": 7,
   "id": "1b8d901d",
   "metadata": {},
   "outputs": [
    {
     "data": {
      "text/plain": [
       "'D:\\\\MartaProject\\\\regression'"
      ]
     },
     "execution_count": 7,
     "metadata": {},
     "output_type": "execute_result"
    }
   ],
   "source": [
    "currentPath = os.getcwd()\n",
    "currentPath"
   ]
  },
  {
   "cell_type": "code",
   "execution_count": null,
   "id": "938a4d9c",
   "metadata": {},
   "outputs": [],
   "source": [
    "currentTime = dt.datetime.now()\n",
    "fileName = f\"codes_{currentTime.year}_{currentTime.month}_currentTime\""
   ]
  },
  {
   "cell_type": "code",
   "execution_count": null,
   "id": "700e033e",
   "metadata": {},
   "outputs": [],
   "source": []
  },
  {
   "cell_type": "code",
   "execution_count": null,
   "id": "42a9c688",
   "metadata": {},
   "outputs": [],
   "source": []
  },
  {
   "cell_type": "code",
   "execution_count": null,
   "id": "f90e9504",
   "metadata": {},
   "outputs": [],
   "source": []
  }
 ],
 "metadata": {
  "kernelspec": {
   "display_name": "Python [conda env:root] *",
   "language": "python",
   "name": "conda-root-py"
  },
  "language_info": {
   "codemirror_mode": {
    "name": "ipython",
    "version": 3
   },
   "file_extension": ".py",
   "mimetype": "text/x-python",
   "name": "python",
   "nbconvert_exporter": "python",
   "pygments_lexer": "ipython3",
   "version": "3.7.0"
  }
 },
 "nbformat": 4,
 "nbformat_minor": 5
}
