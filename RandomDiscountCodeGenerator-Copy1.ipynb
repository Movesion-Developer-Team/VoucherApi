{
 "cells": [
  {
   "cell_type": "code",
   "execution_count": 1,
   "id": "ced1c776",
   "metadata": {},
   "outputs": [],
   "source": [
    "import pandas as pd\n",
    "import numpy as np\n",
    "import random as rd\n",
    "import os\n",
    "import datetime as dt\n"
   ]
  },
  {
   "cell_type": "code",
   "execution_count": 2,
   "id": "c0c7f0f5",
   "metadata": {},
   "outputs": [
    {
     "name": "stdout",
     "output_type": "stream",
     "text": [
      "How many codes do you want to generate?\n"
     ]
    },
    {
     "name": "stdin",
     "output_type": "stream",
     "text": [
      " 20\n"
     ]
    }
   ],
   "source": [
    "print(\"How many codes do you want to generate?\")\n",
    "numberOfCodes = int(input())"
   ]
  },
  {
   "cell_type": "code",
   "execution_count": 3,
   "id": "d642cbbf",
   "metadata": {},
   "outputs": [],
   "source": [
    "alphabet = ['a', 'b', 'c', 'd', 'e', 'f', 'g', 'h', 'i', 'j', 'k', 'l', 'm', 'n', 'o', 'p', 'q', 'r', 's', 't', 'u', 'v', 'w', 'x', 'y', 'z']\n",
    "codes = []\n",
    "while len(set(codes))<numberOfCodes:\n",
    "    for i in range(numberOfCodes):\n",
    "        letter1 = alphabet[rd.randint(0,25)]\n",
    "        letter2 = alphabet[rd.randint(0,25)]\n",
    "        letter3 = alphabet[rd.randint(0,25)]\n",
    "        number1 = rd.randint(0,9)\n",
    "        number2 = rd.randint(0,9)\n",
    "        number3 = rd.randint(0,9)\n",
    "        number4 = rd.randint(0,9)\n",
    "\n",
    "        codes.append(f\"{letter1}{letter2}{letter3}{number1}{number2}{number3}{number4}\")\n",
    "    \n"
   ]
  },
  {
   "cell_type": "code",
   "execution_count": 5,
   "id": "b3f08fc2",
   "metadata": {},
   "outputs": [
    {
     "data": {
      "text/plain": [
       "'D:\\\\Movesion\\\\VoucherApiV3'"
      ]
     },
     "execution_count": 5,
     "metadata": {},
     "output_type": "execute_result"
    }
   ],
   "source": [
    "currentPath = os.path.abspath(os.getcwd())\n",
    "currentPath"
   ]
  },
  {
   "cell_type": "code",
   "execution_count": null,
   "id": "a173ef57",
   "metadata": {},
   "outputs": [],
   "source": []
  },
  {
   "cell_type": "code",
   "execution_count": null,
   "id": "4bd1ddd9",
   "metadata": {},
   "outputs": [],
   "source": [
    "currentTime = dt.datetime.now()\n",
    "fileName = f\"codes_{currentTime.year}_{currentTime.month}_{}\""
   ]
  },
  {
   "cell_type": "code",
   "execution_count": null,
   "id": "d6a2da9d",
   "metadata": {},
   "outputs": [],
   "source": []
  },
  {
   "cell_type": "code",
   "execution_count": null,
   "id": "6581e83d",
   "metadata": {},
   "outputs": [],
   "source": []
  },
  {
   "cell_type": "code",
   "execution_count": null,
   "id": "25bad0f4",
   "metadata": {},
   "outputs": [],
   "source": []
  }
 ],
 "metadata": {
  "kernelspec": {
   "display_name": "Python [conda env:root] *",
   "language": "python",
   "name": "conda-root-py"
  },
  "language_info": {
   "codemirror_mode": {
    "name": "ipython",
    "version": 3
   },
   "file_extension": ".py",
   "mimetype": "text/x-python",
   "name": "python",
   "nbconvert_exporter": "python",
   "pygments_lexer": "ipython3",
   "version": "3.7.0"
  }
 },
 "nbformat": 4,
 "nbformat_minor": 5
}
